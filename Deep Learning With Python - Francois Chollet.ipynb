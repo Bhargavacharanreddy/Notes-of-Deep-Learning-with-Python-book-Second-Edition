{
 "cells": [
  {
   "cell_type": "raw",
   "id": "d04c10ae",
   "metadata": {},
   "source": [
    "1. What is Deep Learning?\n",
    "    \n",
    "    1.1 Artificial Intelligence, machine learning and deep learning\n",
    "        Deep Learning is subset of Machine Learning which is a subset of Artificial Intelligence.\n",
    "        -> Whether a computer can able to think by itself?\n",
    "        -> AI is oftenly described as the effort to automate intellectual tasks which are normally peformed by Human \n",
    "           Beings.\n",
    "        -> AI might include several approaches which might not involve learning.\n",
    "        -> Symbolic AI is an approach where programmers handcraft a sufficiently large set of explicit rules for \n",
    "           manipulating knowledge stored in explicit databases. It is used for solving well-defined, logical problems, \n",
    "           such as playing chess but it turned out to be intractable to figure out explicit rules for solving more \n",
    "           complex, fuzzy problems, such as Image Classification, speech recognition, or natural language translation.\n",
    "        -> Machine learning evolved to take the place of Symbolic AI.\n",
    "        -> Classical Programming is inputing the data along with rules for getting the answers\n",
    "        -> Machine learning is a new programming paradigm where we input data and answers for getting the required\n",
    "           rules (*rules - a computer program)\n",
    "        -> A Machine Learning system is trained rather than explicity programmed. It tries to find the statistical \n",
    "           structure in these examples that eventually allows the system to come up with rules for automating the\n",
    "           task.\n",
    "        -> Machine learning has become trending topic because of the availability of faster hardware and larger \n",
    "           datasets.\n",
    "        -> For doing machine learning we need three things ( input data points, examples of expected output and a way\n",
    "           to measure whether the algorithm is doing a good job or not )\n",
    "    1.2 Before deep learning: A brief history of machine learning\n",
    "        \n",
    "    1.3 Why deep learning? Why now?"
   ]
  },
  {
   "cell_type": "code",
   "execution_count": null,
   "id": "80a018a3",
   "metadata": {},
   "outputs": [],
   "source": []
  }
 ],
 "metadata": {
  "kernelspec": {
   "display_name": "Python 3 (ipykernel)",
   "language": "python",
   "name": "python3"
  },
  "language_info": {
   "codemirror_mode": {
    "name": "ipython",
    "version": 3
   },
   "file_extension": ".py",
   "mimetype": "text/x-python",
   "name": "python",
   "nbconvert_exporter": "python",
   "pygments_lexer": "ipython3",
   "version": "3.9.7"
  }
 },
 "nbformat": 4,
 "nbformat_minor": 5
}
